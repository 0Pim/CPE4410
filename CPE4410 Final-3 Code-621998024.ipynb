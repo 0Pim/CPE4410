{
 "cells": [
  {
   "cell_type": "code",
   "execution_count": 1,
   "metadata": {},
   "outputs": [],
   "source": [
    "# จงเขียนโปรแกรมสำหรับดึงข้อมูลหุ้น facebook : ‘fb’ จาก yahoo โดยใช้ข้อมูลเริ่มต้นในช่วง \n",
    "# 2010-01-01 จนถึงวันปัจจุบันและนำมาแสดงเป็นกราฟ พร้อมทั้งหาวันที่มูลค่าหุ้นลงไปต่ำที่สุด, \n",
    "# วันที่มูลค่าหุ้นขึ้นไปสูงสุดพร้อมทั้งหามูลค่าหุ้นเฉลี่ยของหุ้น facebook\n",
    "\n",
    "import pandas as pd\n",
    "import seaborn as sns\n",
    "import matplotlib.pyplot as plt\n",
    "from pandas_datareader import data"
   ]
  },
  {
   "cell_type": "code",
   "execution_count": 2,
   "metadata": {},
   "outputs": [
    {
     "data": {
      "text/html": [
       "<div>\n",
       "<style scoped>\n",
       "    .dataframe tbody tr th:only-of-type {\n",
       "        vertical-align: middle;\n",
       "    }\n",
       "\n",
       "    .dataframe tbody tr th {\n",
       "        vertical-align: top;\n",
       "    }\n",
       "\n",
       "    .dataframe thead th {\n",
       "        text-align: right;\n",
       "    }\n",
       "</style>\n",
       "<table border=\"1\" class=\"dataframe\">\n",
       "  <thead>\n",
       "    <tr style=\"text-align: right;\">\n",
       "      <th></th>\n",
       "      <th>High</th>\n",
       "      <th>Low</th>\n",
       "      <th>Open</th>\n",
       "      <th>Close</th>\n",
       "      <th>Volume</th>\n",
       "      <th>Adj Close</th>\n",
       "    </tr>\n",
       "    <tr>\n",
       "      <th>Date</th>\n",
       "      <th></th>\n",
       "      <th></th>\n",
       "      <th></th>\n",
       "      <th></th>\n",
       "      <th></th>\n",
       "      <th></th>\n",
       "    </tr>\n",
       "  </thead>\n",
       "  <tbody>\n",
       "    <tr>\n",
       "      <th>2012-05-18</th>\n",
       "      <td>45.000000</td>\n",
       "      <td>38.000000</td>\n",
       "      <td>42.049999</td>\n",
       "      <td>38.230000</td>\n",
       "      <td>573576400</td>\n",
       "      <td>38.230000</td>\n",
       "    </tr>\n",
       "    <tr>\n",
       "      <th>2012-05-21</th>\n",
       "      <td>36.660000</td>\n",
       "      <td>33.000000</td>\n",
       "      <td>36.529999</td>\n",
       "      <td>34.029999</td>\n",
       "      <td>168192700</td>\n",
       "      <td>34.029999</td>\n",
       "    </tr>\n",
       "    <tr>\n",
       "      <th>2012-05-22</th>\n",
       "      <td>33.590000</td>\n",
       "      <td>30.940001</td>\n",
       "      <td>32.610001</td>\n",
       "      <td>31.000000</td>\n",
       "      <td>101786600</td>\n",
       "      <td>31.000000</td>\n",
       "    </tr>\n",
       "    <tr>\n",
       "      <th>2012-05-23</th>\n",
       "      <td>32.500000</td>\n",
       "      <td>31.360001</td>\n",
       "      <td>31.370001</td>\n",
       "      <td>32.000000</td>\n",
       "      <td>73600000</td>\n",
       "      <td>32.000000</td>\n",
       "    </tr>\n",
       "    <tr>\n",
       "      <th>2012-05-24</th>\n",
       "      <td>33.209999</td>\n",
       "      <td>31.770000</td>\n",
       "      <td>32.950001</td>\n",
       "      <td>33.029999</td>\n",
       "      <td>50237200</td>\n",
       "      <td>33.029999</td>\n",
       "    </tr>\n",
       "  </tbody>\n",
       "</table>\n",
       "</div>"
      ],
      "text/plain": [
       "                 High        Low       Open      Close     Volume  Adj Close\n",
       "Date                                                                        \n",
       "2012-05-18  45.000000  38.000000  42.049999  38.230000  573576400  38.230000\n",
       "2012-05-21  36.660000  33.000000  36.529999  34.029999  168192700  34.029999\n",
       "2012-05-22  33.590000  30.940001  32.610001  31.000000  101786600  31.000000\n",
       "2012-05-23  32.500000  31.360001  31.370001  32.000000   73600000  32.000000\n",
       "2012-05-24  33.209999  31.770000  32.950001  33.029999   50237200  33.029999"
      ]
     },
     "execution_count": 2,
     "metadata": {},
     "output_type": "execute_result"
    }
   ],
   "source": [
    "df = data.DataReader('fb', \n",
    "                     data_source='yahoo', \n",
    "                     start='2010-01-01', \n",
    "                     end='2021-12-23')\n",
    "df.head()"
   ]
  },
  {
   "cell_type": "code",
   "execution_count": 3,
   "metadata": {
    "scrolled": true
   },
   "outputs": [
    {
     "name": "stdout",
     "output_type": "stream",
     "text": [
      "Graph\n"
     ]
    },
    {
     "data": {
      "image/png": "[encoded data removed]",
      "text/plain": [
       "<Figure size 432x288 with 1 Axes>"
      ]
     },
     "metadata": {
      "needs_background": "light"
     },
     "output_type": "display_data"
    }
   ],
   "source": [
    "print(\"Graph\")\n",
    "sns.lineplot(x=df.index, y='Adj Close', data=df);"
   ]
  },
  {
   "cell_type": "code",
   "execution_count": 4,
   "metadata": {},
   "outputs": [
    {
     "name": "stdout",
     "output_type": "stream",
     "text": [
      "ตาราง Date เฉพาะ Adj Close\n"
     ]
    },
    {
     "data": {
      "text/plain": [
       "Date\n",
       "2012-05-18     38.230000\n",
       "2012-05-21     34.029999\n",
       "2012-05-22     31.000000\n",
       "2012-05-23     32.000000\n",
       "2012-05-24     33.029999\n",
       "                 ...    \n",
       "2021-12-16    334.899994\n",
       "2021-12-17    333.790009\n",
       "2021-12-20    325.450012\n",
       "2021-12-21    334.200012\n",
       "2021-12-22    330.450012\n",
       "Name: Adj Close, Length: 2416, dtype: float64"
      ]
     },
     "execution_count": 4,
     "metadata": {},
     "output_type": "execute_result"
    }
   ],
   "source": [
    "print(\"ตาราง Date เฉพาะ Adj Close\")\n",
    "df['Adj Close']"
   ]
  },
  {
   "cell_type": "code",
   "execution_count": 5,
   "metadata": {},
   "outputs": [
    {
     "name": "stdout",
     "output_type": "stream",
     "text": [
      "มูลค่าหุ้น Facebook ที่ลงไปต่ำที่สุด\n",
      "Date : 2012-09-04 00:00:00\n",
      "Low  : 17.729999542236328\n",
      " \n",
      "มูลค่าหุ้น Facebook ที่ขึ้นไปสูงที่สุด\n",
      "Date : 2021-09-07 00:00:00\n",
      "High : 382.17999267578125\n"
     ]
    }
   ],
   "source": [
    "Low = []\n",
    "High = []\n",
    "for i in range(0, len(df['Adj Close'])):\n",
    "    Low.append(df['Adj Close'][i])\n",
    "    if Low[i] == min(df['Adj Close']):\n",
    "        print('มูลค่าหุ้น Facebook ที่ลงไปต่ำที่สุด')\n",
    "        print('Date :',df.index[i])\n",
    "        print('Low  :',Low[i])\n",
    "        print(' ')\n",
    "        \n",
    "for i in range(0, len(df['Adj Close'])):\n",
    "    High.append(df['Adj Close'][i])\n",
    "    if High[i] == max(df['Adj Close']):\n",
    "        print('มูลค่าหุ้น Facebook ที่ขึ้นไปสูงที่สุด')\n",
    "        print('Date :',df.index[i])\n",
    "        print('High :',High[i])\n",
    "        "
   ]
  },
  {
   "cell_type": "code",
   "execution_count": 6,
   "metadata": {},
   "outputs": [
    {
     "name": "stdout",
     "output_type": "stream",
     "text": [
      "มูลค่าเฉลี่ยหุ้น Facebook : 144.16555461188815\n"
     ]
    }
   ],
   "source": [
    "USD = 0\n",
    "for i in range(0, len(df['Adj Close'])):\n",
    "    USD += (df['Adj Close'][i])\n",
    "    \n",
    "USD = USD/int(len(df['Adj Close']))    \n",
    "print('มูลค่าเฉลี่ยหุ้น Facebook :',USD)"
   ]
  }
 ],
 "metadata": {
  "kernelspec": {
   "display_name": "Python 3",
   "language": "python",
   "name": "python3"
  },
  "language_info": {
   "codemirror_mode": {
    "name": "ipython",
    "version": 3
   },
   "file_extension": ".py",
   "mimetype": "text/x-python",
   "name": "python",
   "nbconvert_exporter": "python",
   "pygments_lexer": "ipython3",
   "version": "3.8.8"
  }
 },
 "nbformat": 4,
 "nbformat_minor": 4
}
